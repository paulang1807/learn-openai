{
 "cells": [
  {
   "cell_type": "markdown",
   "id": "8c489c86-5083-4fd2-b2c6-a13a2e1c3026",
   "metadata": {},
   "source": [
    "Based on https://learn.deeplearning.ai/chatgpt-prompt-eng/"
   ]
  },
  {
   "cell_type": "code",
   "execution_count": 1,
   "id": "1006ece1-d367-4061-a06d-886faf100fa6",
   "metadata": {},
   "outputs": [],
   "source": [
    "import openai"
   ]
  },
  {
   "cell_type": "code",
   "execution_count": 16,
   "id": "b7dd9d2d-e8be-4e33-89ce-cc0d863f356b",
   "metadata": {},
   "outputs": [],
   "source": [
    "# Set API Key\n",
    "\n",
    "openai.api_key=\"sk-...\"\n",
    "# or \n",
    "# !export OPENAI_API_KEY='sk-...'  - this did not work"
   ]
  },
  {
   "cell_type": "code",
   "execution_count": 14,
   "id": "696cf634-5689-4a40-b48b-248eb1340939",
   "metadata": {},
   "outputs": [],
   "source": [
    "# Code to run when using env variable for api key\n",
    "import os\n",
    "\n",
    "from dotenv import load_dotenv, find_dotenv\n",
    "_ = load_dotenv(find_dotenv())\n",
    "\n",
    "openai.api_key  = os.getenv('OPENAI_API_KEY')"
   ]
  },
  {
   "cell_type": "code",
   "execution_count": 9,
   "id": "fd98b56e-f258-41ad-a87e-12a55155eba6",
   "metadata": {},
   "outputs": [],
   "source": [
    "# Helper function for prompting\n",
    "def get_completion_from_messages(messages, model=\"gpt-3.5-turbo\", temperature=0):\n",
    "    response = openai.ChatCompletion.create(\n",
    "        model=model,\n",
    "        messages=messages,\n",
    "        temperature=temperature, # this is the degree of randomness of the model's output\n",
    "    )\n",
    "#     print(str(response.choices[0].message))\n",
    "    return response.choices[0].message[\"content\"]"
   ]
  },
  {
   "cell_type": "markdown",
   "id": "3998bff8-0d29-45ad-8cd3-1dd41c7882b4",
   "metadata": {},
   "source": [
    "## Examples\n",
    "### General Conversation"
   ]
  },
  {
   "cell_type": "code",
   "execution_count": null,
   "id": "34961976-6194-4251-b6ea-4178f03437fe",
   "metadata": {},
   "outputs": [],
   "source": [
    "messages =  [  \n",
    "# Role 'system' used to provide directions to chatGPT\n",
    "{'role':'system', 'content':'You are Yoda of Star Wars fame.'}, \n",
    "# Role 'user' used to specify user inputs\n",
    "{'role':'user', 'content':'tell me about Skywalker'}  ]"
   ]
  },
  {
   "cell_type": "markdown",
   "id": "738731ab-9d58-4cc6-9da3-88e8873ba4f1",
   "metadata": {},
   "source": [
    "### General Conversation with UI"
   ]
  },
  {
   "cell_type": "code",
   "execution_count": null,
   "id": "169e19b2-2baf-4b07-b8d7-7b6a91d28a06",
   "metadata": {},
   "outputs": [],
   "source": [
    "# Helper Function\n",
    "def collect_messages(_):\n",
    "    prompt = inp.value_input\n",
    "    context = [{'role':'system', 'content':'You are Yoda of Star Wars fame.'}]\n",
    "    # Store user inputs for context\n",
    "    context.append({'role':'user', 'content':f\"{prompt}\"})\n",
    "    response = get_completion_from_messages(context) \n",
    "    inp.value = ''\n",
    "    if len(prompt.strip()) > 0:\n",
    "        panels.append(\n",
    "            pn.Row('User:', pn.pane.Markdown(prompt, width=500)))\n",
    "    panels.append(\n",
    "        pn.Row('Assistant:', pn.pane.Markdown(response, width=500, style={'background-color': '#F6F6F6'})))\n",
    " \n",
    "    return pn.Column(*panels)"
   ]
  },
  {
   "cell_type": "code",
   "execution_count": null,
   "id": "c2e264db-940a-497d-a2e7-b4614b42f11a",
   "metadata": {},
   "outputs": [],
   "source": [
    "# Config\n",
    "import panel as pn  # GUI\n",
    "pn.extension()\n",
    "\n",
    "panels = [] # collect display \n",
    "\n",
    "inp = pn.widgets.TextInput(value=\"Hi\", placeholder='Enter text here…')\n",
    "button_conversation = pn.widgets.Button(name=\"Ask Bot!\")\n",
    "\n",
    "interactive_conversation = pn.bind(collect_messages, button_conversation)\n",
    "\n",
    "dashboard = pn.Column(\n",
    "    inp,\n",
    "    pn.Row(button_conversation),\n",
    "    pn.panel(interactive_conversation, loading_indicator=True, height=300),\n",
    ")\n",
    "\n",
    "dashboard"
   ]
  },
  {
   "cell_type": "markdown",
   "id": "f42b8a24-4eaf-4e39-a829-062d8bb65cab",
   "metadata": {},
   "source": [
    "### Chat with Context"
   ]
  },
  {
   "cell_type": "code",
   "execution_count": null,
   "id": "aaae9543-521d-4d41-b14f-3d7b2003f861",
   "metadata": {},
   "outputs": [],
   "source": [
    "# Helper Function\n",
    "def collect_messages_with_context(_):\n",
    "    prompt = inp.value_input\n",
    "    # Store user inputs for context\n",
    "    context.append({'role':'user', 'content':f\"{prompt}\"})\n",
    "    response = get_completion_from_messages(context) \n",
    "    # Store responses for context\n",
    "    context.append({'role':'assistant', 'content':f\"{response}\"})\n",
    "    inp.value = ''\n",
    "    if len(prompt.strip()) > 0:\n",
    "        panels.append(\n",
    "            pn.Row('User:', pn.pane.Markdown(prompt, width=500)))\n",
    "    panels.append(\n",
    "        pn.Row('Assistant:', pn.pane.Markdown(response, width=500, style={'background-color': '#F6F6F6'})))\n",
    " \n",
    "    return pn.Column(*panels)"
   ]
  },
  {
   "cell_type": "code",
   "execution_count": null,
   "id": "22f85f5c-4050-4178-8384-550370e147a7",
   "metadata": {},
   "outputs": [],
   "source": [
    "# Setup\n",
    "import panel as pn  # GUI\n",
    "pn.extension()\n",
    "\n",
    "panels = [] # collect display \n",
    "\n",
    "context = [ {'role':'system', 'content':\"\"\"\n",
    "You are Bookie, an automated service to collect orders for a book store. \\\n",
    "You first greet the customer, then collect the order. \\\n",
    "You wait to collect the entire order, then summarize it and check for a final \\\n",
    "time if the customer wants to add anything else. \\\n",
    "If it's a hardcover or paperback, you ask if it is pickup or delivery. \\\n",
    "If it's a delivery, you ask for an address. \\\n",
    "Finally you collect the payment.\\\n",
    "Make sure to clarify the type - kindle, audiobook, hardcover, paperback to \\\n",
    "ensure correctness of the price.\\\n",
    "You respond in a short, very conversational friendly style. \\\n",
    "The list of available books includes \\\n",
    "Adventure:\n",
    "ABook1  12.95(H), 10.00(A), 7.00(P), 9.00(K) \\\n",
    "ABook2   10.95(H), 9.25(A), 6.50(P), 5.00(K) \\\n",
    "ABook3   11.95(H), 9.75(A), 6.75(P), 7.00(K) \\\n",
    "Thrillers: \\\n",
    "TBook1 11.95(H), 8.75(A), 5.75(P), 5.00(K) \\\n",
    "TBook2 10.95(H), 7.75(A), 4.75(P), 4.00(K) \\\n",
    "TBook3 12.95(H), 9.75(A), 6.75(P), 8.00(K) \\\n",
    "Mystery: \\\n",
    "MBook1 11.95(H), 8.75(A), 6.75(P), 7.00(K) \\\n",
    "MBook2 10.95(H), 7.75(A), 3.75(P), 4.00(K) \\\n",
    "MBook3 12.95(H), 9.75(A), 8.75(P), 8.00(K) \\\n",
    "\"\"\"} ]  # accumulate messages\n",
    "\n",
    "inp = pn.widgets.TextInput(value=\"Hi\", placeholder='Enter text here…')\n",
    "button_conversation = pn.widgets.Button(name=\"Send!\")\n",
    "\n",
    "interactive_conversation = pn.bind(collect_messages_with_context, button_conversation)\n",
    "\n",
    "dashboard = pn.Column(\n",
    "    inp,\n",
    "    pn.Row(button_conversation),\n",
    "    pn.panel(interactive_conversation, loading_indicator=True, height=300),\n",
    ")\n",
    "\n",
    "dashboard"
   ]
  },
  {
   "cell_type": "code",
   "execution_count": null,
   "id": "8e1de1fa-1893-4358-8f4e-aa58d686aa27",
   "metadata": {},
   "outputs": [],
   "source": [
    "messages =  context.copy()\n",
    "messages.append(\n",
    "{'role':'system', 'content':'create a json summary of the previous order. Itemize the price for each item\\\n",
    " The fields should be 1) title, include type 2) pickup or delivery 3) total price '},    \n",
    ")\n",
    " #The fields should be 1) pizza, price 2) list of toppings 3) list of drinks, include size include price  4) list of sides include size include price, 5)total price '},    \n",
    "\n",
    "response = get_completion_from_messages(messages, temperature=0)\n",
    "print(response)"
   ]
  }
 ],
 "metadata": {
  "kernelspec": {
   "display_name": "Python 3 (ipykernel)",
   "language": "python",
   "name": "python3"
  },
  "language_info": {
   "codemirror_mode": {
    "name": "ipython",
    "version": 3
   },
   "file_extension": ".py",
   "mimetype": "text/x-python",
   "name": "python",
   "nbconvert_exporter": "python",
   "pygments_lexer": "ipython3",
   "version": "3.9.12"
  }
 },
 "nbformat": 4,
 "nbformat_minor": 5
}
