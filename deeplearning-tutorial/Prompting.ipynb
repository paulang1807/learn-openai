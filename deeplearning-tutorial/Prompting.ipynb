{
 "cells": [
  {
   "cell_type": "markdown",
   "id": "ff0a98f1-84d6-4a3a-a31f-e5e5891e8452",
   "metadata": {},
   "source": [
    "Based on https://learn.deeplearning.ai/chatgpt-prompt-eng/"
   ]
  },
  {
   "cell_type": "markdown",
   "id": "80e2abaa-e554-4ac4-aaef-d14b2c1492de",
   "metadata": {},
   "source": [
    "## Setup"
   ]
  },
  {
   "cell_type": "code",
   "execution_count": 1,
   "id": "3b68891e-e868-4323-b17d-c3d26e3f3ee9",
   "metadata": {},
   "outputs": [],
   "source": [
    "import openai"
   ]
  },
  {
   "cell_type": "code",
   "execution_count": 16,
   "id": "0ab1f0c6-6cf8-46cd-b5df-5474f241a646",
   "metadata": {},
   "outputs": [],
   "source": [
    "# Set API Key\n",
    "\n",
    "openai.api_key=\"sk-...\"\n",
    "# or \n",
    "# !export OPENAI_API_KEY='sk-...'  - this did not work"
   ]
  },
  {
   "cell_type": "code",
   "execution_count": 14,
   "id": "4758bf09-f52c-436a-8a6a-a30a52799dd3",
   "metadata": {},
   "outputs": [],
   "source": [
    "# Code to run when using env variable for api key\n",
    "import os\n",
    "\n",
    "from dotenv import load_dotenv, find_dotenv\n",
    "_ = load_dotenv(find_dotenv())\n",
    "\n",
    "openai.api_key  = os.getenv('OPENAI_API_KEY')"
   ]
  },
  {
   "cell_type": "code",
   "execution_count": 9,
   "id": "27b84569-29df-47f7-8158-7417d77d87f2",
   "metadata": {},
   "outputs": [],
   "source": [
    "# Helper function for prompting\n",
    "def get_completion(prompt, model=\"gpt-3.5-turbo\", temperature=0):\n",
    "    messages = [{\"role\": \"user\", \"content\": prompt}]\n",
    "    response = openai.ChatCompletion.create(\n",
    "        model=model,\n",
    "        messages=messages,\n",
    "        temperature=temperature, # this is the degree of randomness of the model's output\n",
    "    )\n",
    "    return response.choices[0].message[\"content\"]\n"
   ]
  },
  {
   "cell_type": "markdown",
   "id": "91f7c9be-7c1a-43bb-a737-bf329449defd",
   "metadata": {
    "tags": []
   },
   "source": [
    "## Prompting Guidelines\n",
    "Provide Clear and Specific instructions\n",
    "#### Tactic 1: Use delimiters\n",
    "- Triple Quotes: \"\"\"\n",
    "- Triple backticks: ```\n",
    "- Triple dashes: ---\n",
    "- Angle brackets: <>\n",
    "- XML tags: \\<tag>\\</tag> "
   ]
  },
  {
   "cell_type": "code",
   "execution_count": 19,
   "id": "0e132126-cdd7-4e33-8926-f1b90bd2b126",
   "metadata": {
    "tags": []
   },
   "outputs": [],
   "source": [
    "text = f\"\"\"\n",
    "Generating random paragraphs can be an excellent way \\\n",
    "for writers to get their creative flow going at the beginning \\\n",
    "of the day. The writer has no idea what topic the random paragraph \\\n",
    "will be about when it appears. This forces the writer to use creativity \\\n",
    "to complete one of three common writing challenges. The writer can use the \\\n",
    "paragraph as the first one of a short story and build upon it. A second option \\\n",
    "is to use the random paragraph somewhere in a short story they create. The \\\n",
    "third option is to have the random paragraph be the ending paragraph in a \\\n",
    "short story. No matter which of these challenges is undertaken, the writer \\\n",
    "is forced to use creativity to incorporate the paragraph into their writing.\n",
    "\"\"\"\n",
    "prompt = f\"\"\"\n",
    "Summarize the text delimited by triple backticks \\ \n",
    "into a single sentence.\n",
    "```{text}```\n",
    "\"\"\"\n",
    "response = get_completion(prompt)\n",
    "print(response)"
   ]
  },
  {
   "cell_type": "markdown",
   "id": "59f5ef87-364e-4f1c-956b-4cfe7084fb8c",
   "metadata": {},
   "source": [
    "#### Tactic 2: Ask for a structured output\n",
    "JSON, HTML"
   ]
  },
  {
   "cell_type": "code",
   "execution_count": null,
   "id": "115119fe-5962-4c09-8437-a4f8e88ca3c2",
   "metadata": {
    "tags": []
   },
   "outputs": [],
   "source": [
    "prompt = f\"\"\"\n",
    "Generate a list of three bollywood movies along \\ \n",
    "with their director and year of release. \n",
    "Provide them in JSON format with the following keys: \n",
    "Movie Name, Year of Release, Director.\n",
    "\"\"\"\n",
    "response = get_completion(prompt)\n",
    "print(response)"
   ]
  },
  {
   "cell_type": "markdown",
   "id": "62ba2453-a3a3-499a-b4b2-0a6dfe11197f",
   "metadata": {},
   "source": [
    "#### Tactic 3: Ask the model to check whether conditions are satisfied"
   ]
  },
  {
   "cell_type": "code",
   "execution_count": null,
   "id": "043cff06-9f61-4c97-bf17-6f7b1822c199",
   "metadata": {
    "tags": []
   },
   "outputs": [],
   "source": [
    "prompt = f\"\"\"\n",
    "x=1. y=2. x+y=3\n",
    "\"\"\"\n",
    "prompt = f\"\"\"\n",
    "You will be provided with text delimited by triple quotes. \n",
    "If it contains mathematical equations, \\ \n",
    "re-write the equation as a list of steps in the following format:\n",
    "\n",
    "Step 1 - ...\n",
    "Step 2 - …\n",
    "…\n",
    "Step N - …\n",
    "\n",
    "If the text does not contain contains a mathematical equation, \\ \n",
    "then simply write \\\"No equation provided.\\\"\n",
    "\n",
    "\\\"\\\"\\\"{prompt}\\\"\\\"\\\"\n",
    "\"\"\"\n",
    "response = get_completion(prompt)\n",
    "print(\"Completion for Prompt:\")\n",
    "print(response)"
   ]
  },
  {
   "cell_type": "markdown",
   "id": "988c18de-09a9-4078-8526-905adf11e9ef",
   "metadata": {},
   "source": [
    "#### Tactic 4 - Few-Shot Prompting: Provide examples of completing tasks. Then ask model to perform the task."
   ]
  },
  {
   "cell_type": "code",
   "execution_count": null,
   "id": "83736b0e-607c-4140-91b4-b022043f5bf7",
   "metadata": {
    "tags": []
   },
   "outputs": [],
   "source": [
    "prompt = f\"\"\"\n",
    "Your task is to answer in a consistent style.\n",
    "\n",
    "<question>: Sholay.\n",
    "\n",
    "<answer>: The movie \"Sholay\" was released in the 70s and started Amitabh \\\n",
    "and Dharmendra in the lead roles.\n",
    "\n",
    "<question>: Karz.\n",
    "\"\"\"\n",
    "response = get_completion(prompt)\n",
    "print(response)"
   ]
  },
  {
   "cell_type": "markdown",
   "id": "26f862d6-47bc-4eae-84ca-e8de152c2afd",
   "metadata": {},
   "source": [
    "#### Tactic 5: Specify the steps required to complete a task"
   ]
  },
  {
   "cell_type": "code",
   "execution_count": null,
   "id": "255b9b08-73ac-4d09-b7ee-93da4a174773",
   "metadata": {
    "tags": []
   },
   "outputs": [],
   "source": [
    "prompt = f\"\"\"\n",
    "Perform the following actions: \n",
    "1 - Write a parable.\n",
    "2 - Summarize it in a single line in Hindi.\n",
    "3 - State the moral of the parable.\n",
    "4 - Output a json object that contains the following \\\n",
    "keys: title, moral.\n",
    "\n",
    "Separate your answers with line breaks.\n",
    "\"\"\"\n",
    "response = get_completion(prompt)\n",
    "print(\"Completion for prompt:\")\n",
    "print(response)"
   ]
  },
  {
   "cell_type": "markdown",
   "id": "153efffd-5008-488d-99be-521ef17572b6",
   "metadata": {},
   "source": [
    "#### Tactic 6: Ask for response in a specified format"
   ]
  },
  {
   "cell_type": "code",
   "execution_count": null,
   "id": "a795768c-3202-487c-95de-1b200adb7533",
   "metadata": {
    "tags": []
   },
   "outputs": [],
   "source": [
    "# Example 1 - Simple JSON\n",
    "prompt = f\"\"\"\n",
    "Your task is to perform the following actions: \n",
    "1 - Write a parable.\n",
    "2 - Summarize it in a single line in Bangla.\n",
    "3 - State the moral of the parable.\n",
    "4 - Output a json object that contains the following \\\n",
    "keys: title, moral.\n",
    "\n",
    "Use the following format:\n",
    "Parable: <text to summarize>\n",
    "Summary: <summary>\n",
    "Moral: <moral of story>\n",
    "Output JSON: <json with title and moral>\n",
    "\"\"\"\n",
    "response = get_completion(prompt)\n",
    "print(\"\\nCompletion for prompt:\")\n",
    "print(response)"
   ]
  },
  {
   "cell_type": "code",
   "execution_count": null,
   "id": "f4b9a929-d199-4210-b741-dd030ce92e03",
   "metadata": {},
   "outputs": [],
   "source": [
    "# Example 2 - HTML Table with datatype\n",
    "prompt = f\"\"\"\n",
    "Your task is to perform the following actions: \n",
    "1. Prepare a list of 10 bollywood movies\n",
    "2. Find out year each of the movies was released\n",
    "3. Find out if the movie was a hit or a flop at the box office.\n",
    "\n",
    "Output the response as a table having three columns.\n",
    "In the first column include the name of the movie.  Use \"Name\" as the column title.\n",
    "In the second column include the year of release (Use \"Year\" as the column title ) \\\n",
    "and in the third column, include the box office result. Use \"Hit or Flop\" as the \\\n",
    "column title and format the value as a boolean.\n",
    "\n",
    "Give the table the title 'Movie Stats'.\n",
    "\n",
    "Format everything as HTML that can be used in a website. \n",
    "Place the description in a <div> element.\n",
    "\n",
    "Output in markdown format as well. \n",
    "\"\"\"\n",
    "response = get_completion(prompt)\n",
    "print(\"\\nCompletion for prompt:\")\n",
    "print(response)"
   ]
  },
  {
   "cell_type": "code",
   "execution_count": 3,
   "id": "8d49dd33-fc99-47d0-899a-287e72aa4909",
   "metadata": {},
   "outputs": [],
   "source": [
    "from IPython.display import display, HTML\n",
    "display(HTML(response))"
   ]
  },
  {
   "cell_type": "code",
   "execution_count": null,
   "id": "01ed03f5-31ca-46e6-9b38-b90360b5cdf9",
   "metadata": {},
   "outputs": [],
   "source": [
    "# Example 3 - Markdown\n",
    "prompt = f\"\"\"\n",
    "Output the following in markdown format: ```{text}```\n",
    "\"\"\"\n",
    "response = get_completion(prompt)\n",
    "print(\"\\nCompletion for prompt:\")\n",
    "print(response)"
   ]
  },
  {
   "cell_type": "markdown",
   "id": "f0263676-b057-459f-8453-391b7e71480d",
   "metadata": {},
   "source": [
    "#### Tactic 7: Instruct the model to work out its own solution before rushing to a conclusion"
   ]
  },
  {
   "cell_type": "code",
   "execution_count": null,
   "id": "fe435531-dfca-49a8-b929-2703988f83d5",
   "metadata": {
    "tags": []
   },
   "outputs": [],
   "source": [
    "prompt = f\"\"\"\n",
    "Your task is to determine if the student's solution is correct or not.\n",
    "To solve the problem do the following:\n",
    "- First, work out your own solution to the problem. \n",
    "- Then compare your solution to the student's solution and evaluate if \\\n",
    "the student's solution is correct or not. Don't decide if the student's \\\n",
    "solution is correct until you have done the problem yourself.\n",
    "\n",
    "Use the following format:\n",
    "Question:\n",
    "```\n",
    "question here\n",
    "```\n",
    "Student's solution:\n",
    "```\n",
    "student's solution here\n",
    "```\n",
    "Actual solution:\n",
    "```\n",
    "steps to work out the solution and your solution here\n",
    "```\n",
    "Is the student's solution the same as actual solution \\\n",
    "just calculated:\n",
    "```\n",
    "yes or no\n",
    "```\n",
    "Student grade:\n",
    "```\n",
    "correct or incorrect\n",
    "```\n",
    "\n",
    "Question:\n",
    "```\n",
    "I'm producing a television show and need help\n",
    "working out the cost associated to the payments for the actors. \n",
    "- Lead actor charges $100 / episode\n",
    "- Lead actress charges $90 / episode\n",
    "- I negotiated a contract for character actors that will cost \\\n",
    "me a flat $1K for the first 10 character actors for the entire show, and an additional \\\n",
    "$25 per additional character actor / episode\n",
    "What is the total amount I need to spend on the actors \\\n",
    "as a function of the number of episodes. Assume that I end up using a total of 12 \\\n",
    "character actors per episode.\n",
    "``` \n",
    "Student's solution:\n",
    "```\n",
    "Let x be the number of episodes.\n",
    "Costs:\n",
    "1. Lead actor charges: 100x\n",
    "2. Lead actress charges: 90x\n",
    "3. Character actor charges: 1,000 + 300x\n",
    "Total cost: 100x + 90x + 1,000 + 300x = 490x + 1,000\n",
    "```\n",
    "Actual solution:\n",
    "\"\"\"\n",
    "response = get_completion(prompt)\n",
    "print(response)"
   ]
  },
  {
   "cell_type": "markdown",
   "id": "9d54f86b-d032-4373-b314-3befc0644e49",
   "metadata": {},
   "source": [
    "#### Tactic 8: Specify length of output\n",
    "- Use at most 50 words.\n",
    "- Use at most 3 sentences.\n",
    "- Give your answer as a single word, either \"this\" or \"that\".\n",
    "- Make your response as short as possible."
   ]
  },
  {
   "cell_type": "markdown",
   "id": "3cd09bc6-78b5-488e-bb88-3d2e5a8e4920",
   "metadata": {},
   "source": [
    "#### Tactic 9: Reducing hallucinations (fabricated responses)\n",
    "Ask model to find relevant information, then answer the question based on the relevant information and provide citations."
   ]
  },
  {
   "cell_type": "markdown",
   "id": "4214624b-a1ca-428a-bd26-12e0375ffeec",
   "metadata": {},
   "source": [
    "## Summarizing"
   ]
  },
  {
   "cell_type": "code",
   "execution_count": null,
   "id": "dba55b04-fe88-49ae-8e46-1c5aa3f06cc4",
   "metadata": {},
   "outputs": [],
   "source": [
    "# Example 1\n",
    "prompt = prompt = f\"\"\"\n",
    "Your task is to generate a short summary of a product \\\n",
    "review to give feedback to the pricing deparmtment.  \n",
    "\n",
    "Summarize the review below, delimited by triple \n",
    "backticks, in at most 2 sentences, and focusing on any aspects \\\n",
    "that are relevant to the price and perceived value.\n",
    "```{text}```\n",
    "\"\"\"\n",
    "response = get_completion(prompt)\n",
    "print(response)"
   ]
  },
  {
   "cell_type": "code",
   "execution_count": null,
   "id": "1fea6595-2789-4aa7-9b97-2081681fd69a",
   "metadata": {},
   "outputs": [],
   "source": [
    "# Example 2 - Use 'extract' instead of summarize\n",
    "prompt = f\"\"\"\n",
    "Your task is to generate a short summary of a product \\\n",
    "review to give feedback to the pricing deparmtment. \n",
    "\n",
    "From the review below, delimited by triple quotes \\\n",
    "extract the information relevant to the price and perceived value. \\\n",
    "Limit to 2 sentences. \n",
    "```{text}```\n",
    "\"\"\"\n",
    "\n",
    "response = get_completion(prompt)\n",
    "print(response)"
   ]
  },
  {
   "cell_type": "markdown",
   "id": "f9ff8608-2278-47ed-a41e-3299bf2c1ee3",
   "metadata": {},
   "source": [
    "## Inferring"
   ]
  },
  {
   "cell_type": "markdown",
   "id": "95929281-4961-4344-a986-967a7e0c74ca",
   "metadata": {},
   "source": [
    "#### Sentiments and Emotions"
   ]
  },
  {
   "cell_type": "code",
   "execution_count": null,
   "id": "e3f2b464-21d2-4dfc-839a-a61750a2c117",
   "metadata": {},
   "outputs": [],
   "source": [
    "# Example 1\n",
    "prompt = f\"\"\"\n",
    "What is the sentiment of the writer in the followin text, \n",
    "which is delimited with triple backticks?\n",
    "Give your answer as a single word, either \"positive\" or \"negative\".\n",
    "```{text}```\n",
    "\"\"\"\n",
    "response = get_completion(prompt)\n",
    "print(response)"
   ]
  },
  {
   "cell_type": "code",
   "execution_count": null,
   "id": "47c883e9-d0ea-450d-a8a2-9a72d9bdde1b",
   "metadata": {},
   "outputs": [],
   "source": [
    "# Example 2\n",
    "prompt = f\"\"\"\n",
    "Identify a list of emotions expressed by the writer of the \\\n",
    "following review . Include no more than three items in the list. \\\n",
    "Format your answer as a comma separated list in upper case. \n",
    "```{text}```\n",
    "\"\"\"\n",
    "response = get_completion(prompt)\n",
    "print(response)"
   ]
  },
  {
   "cell_type": "markdown",
   "id": "14bca3ce-6104-449c-82c2-65c700a9a557",
   "metadata": {},
   "source": [
    "#### Specific Pieces of Information"
   ]
  },
  {
   "cell_type": "code",
   "execution_count": null,
   "id": "8eb0d960-cec1-49e2-bba0-df0b33b98acb",
   "metadata": {},
   "outputs": [],
   "source": [
    "prompt = f\"\"\"\n",
    "Identify the following items from the text delimited with triple backticks: \n",
    "- Movie Name\n",
    "- Year Of Release\n",
    "\n",
    "Format your response as a JSON object with \"Name\" and \"Year\" as the keys. \n",
    "If the information isn't present, use \"unknown\" as the value.\n",
    "```{text}```\n",
    "\"\"\"\n",
    "response = get_completion(prompt)\n",
    "print(response)"
   ]
  },
  {
   "cell_type": "markdown",
   "id": "17cc5f81-6017-4a7d-a623-8b96c54c66da",
   "metadata": {},
   "source": [
    "#### Topics"
   ]
  },
  {
   "cell_type": "code",
   "execution_count": null,
   "id": "7375b898-d542-461b-9ff0-0d1aa40c1a23",
   "metadata": {},
   "outputs": [],
   "source": [
    "# Example 1\n",
    "prompt = f\"\"\"\n",
    "Determine five topics that are being discussed in the \\\n",
    "following text, which is delimited by triple backticks.\n",
    "Make each item one or two words long. \n",
    "Format your response as a list of items separated by commas.\n",
    "```{text}```\n",
    "\"\"\"\n",
    "response = get_completion(prompt)\n",
    "print(response)"
   ]
  },
  {
   "cell_type": "code",
   "execution_count": null,
   "id": "0f763fd1-86bf-4374-83f1-53329078cab4",
   "metadata": {},
   "outputs": [],
   "source": [
    "# Example 2 - Zero Shot Algorithm\n",
    "topic_list = [\"topic1\", \"topic2\", \"topic3\", \"topic4\", \"topic5\"]\n",
    "prompt = f\"\"\"\n",
    "Determine whether each item in the following list of \\\n",
    "topics is a topic in the text below, which\n",
    "is delimited with triple backticks.\n",
    "\n",
    "Give your answer as list with 0 or 1 for each topic.\n",
    "Format the response as a JSON  with the following keys: topic, included\n",
    "\n",
    "List of topics: {\", \".join(topic_list)}\n",
    "```{text}```\n",
    "\"\"\"\n",
    "response = get_completion(prompt)\n",
    "print(response)"
   ]
  },
  {
   "cell_type": "markdown",
   "id": "77f60700-779f-4928-9ffd-eb00fc0d07d1",
   "metadata": {},
   "source": [
    "## Transforming"
   ]
  },
  {
   "cell_type": "markdown",
   "id": "68100f5d-cc1d-4d2e-9bdf-83e846e6192e",
   "metadata": {},
   "source": [
    "#### Language Translation"
   ]
  },
  {
   "cell_type": "code",
   "execution_count": null,
   "id": "e6b6b4f0-b508-4b5d-9b82-0ae4984e407e",
   "metadata": {},
   "outputs": [],
   "source": [
    "prompt = f\"\"\"\n",
    "Translate the following text delimited by triple backticks to bengali. \\\n",
    "Provide both formal and informal translations. \n",
    "```Who are you```\n",
    "\"\"\"\n",
    "response = get_completion(prompt)\n",
    "print(response)"
   ]
  },
  {
   "cell_type": "markdown",
   "id": "6fb49a28-5da4-4678-97d9-e8224530eccd",
   "metadata": {},
   "source": [
    "#### Tone Transformation"
   ]
  },
  {
   "cell_type": "code",
   "execution_count": null,
   "id": "3251f604-5024-4f43-8312-bbac514dfd11",
   "metadata": {},
   "outputs": [],
   "source": [
    "prompt = f\"\"\"\n",
    "Translate the following from slang to a business letter: \n",
    "'Holy shit, This stuff don't work. Get me a new one.'\n",
    "\"\"\"\n",
    "response = get_completion(prompt)\n",
    "print(response)"
   ]
  },
  {
   "cell_type": "markdown",
   "id": "2010a3fb-3941-4850-a74b-640aa56ff9d4",
   "metadata": {},
   "source": [
    "#### Format Conversion"
   ]
  },
  {
   "cell_type": "code",
   "execution_count": null,
   "id": "7f344419-e7fd-48b0-90e3-2e33795f7f6b",
   "metadata": {},
   "outputs": [],
   "source": [
    "prompt = f\"\"\"\n",
    "Translate the following python dictionary from JSON to an HTML \\\n",
    "table with column headers and title: {json_text}\n",
    "\"\"\"\n",
    "response = get_completion(prompt)\n",
    "print(response)"
   ]
  },
  {
   "cell_type": "markdown",
   "id": "d9fba6d2-e1e1-45fa-986d-09bc369d190c",
   "metadata": {},
   "source": [
    "#### Grammer Check"
   ]
  },
  {
   "cell_type": "code",
   "execution_count": null,
   "id": "96e9c3ad-5481-4d61-945c-9a542f92e65e",
   "metadata": {},
   "outputs": [],
   "source": [
    "prompt = f\"\"\"Proofread and correct the following text \\\n",
    "and rewrite the corrected version. Make it more compelling. \\\n",
    "```{text}```\"\"\"\n",
    "response = get_completion(prompt)\n",
    "print(response)"
   ]
  },
  {
   "cell_type": "markdown",
   "id": "c4568254-70aa-4d44-bc7b-cbe0c6bf1863",
   "metadata": {},
   "source": [
    "## Email Response"
   ]
  },
  {
   "cell_type": "code",
   "execution_count": null,
   "id": "8abd58f6-4781-49dd-a688-f5d5f1deb5a6",
   "metadata": {},
   "outputs": [],
   "source": [
    "prompt = f\"\"\"\n",
    "Your task is to send an email reply to a valued customer.\n",
    "Given the customer email delimited by ```, identify the sentiment of the email. \\\n",
    "Generate a reply to thank the customer for their review.\n",
    "If the sentiment is positive or neutral, thank them for \\\n",
    "their review.\n",
    "If the sentiment is negative, apologize and suggest that \\\n",
    "they can reach out to customer service. \n",
    "Make sure to use specific details from the review.\n",
    "Write in a concise and professional tone.\n",
    "Sign the email as `AI customer agent`.\n",
    "```{email_text}```\n",
    "\"\"\"\n",
    "response = get_completion(prompt)\n",
    "print(response)"
   ]
  }
 ],
 "metadata": {
  "kernelspec": {
   "display_name": "Python 3 (ipykernel)",
   "language": "python",
   "name": "python3"
  },
  "language_info": {
   "codemirror_mode": {
    "name": "ipython",
    "version": 3
   },
   "file_extension": ".py",
   "mimetype": "text/x-python",
   "name": "python",
   "nbconvert_exporter": "python",
   "pygments_lexer": "ipython3",
   "version": "3.9.12"
  }
 },
 "nbformat": 4,
 "nbformat_minor": 5
}
